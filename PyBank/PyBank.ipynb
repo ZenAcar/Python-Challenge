{
 "cells": [
  {
   "cell_type": "code",
   "execution_count": 14,
   "metadata": {},
   "outputs": [],
   "source": [
    "import os\n",
    "import csv"
   ]
  },
  {
   "cell_type": "code",
   "execution_count": 21,
   "metadata": {},
   "outputs": [
    {
     "data": {
      "text/plain": [
       "'Resources/budget_data.csv'"
      ]
     },
     "execution_count": 21,
     "metadata": {},
     "output_type": "execute_result"
    }
   ],
   "source": [
    "csvpath=os.path.join(\"Resources\", \"budget_data.csv\")\n",
    "csvpath"
   ]
  },
  {
   "cell_type": "code",
   "execution_count": 22,
   "metadata": {},
   "outputs": [],
   "source": [
    "totalmonths=0\n",
    "netmoney=0\n",
    "maxdecrease=0\n",
    "maxincrease=0\n",
    "listofchanges=[]\n",
    "maxmonth=\"\"\n",
    "minmonth=\"\""
   ]
  },
  {
   "cell_type": "code",
   "execution_count": 23,
   "metadata": {},
   "outputs": [
    {
     "data": {
      "text/plain": [
       "86"
      ]
     },
     "execution_count": 23,
     "metadata": {},
     "output_type": "execute_result"
    }
   ],
   "source": [
    "with open(csvpath) as csvfile:\n",
    "    csvreader = csv.reader(csvfile, delimiter=\",\")\n",
    "    \n",
    "    head=next(csvreader)\n",
    "    toprow = next(csvreader)\n",
    "    totalmonths = totalmonths + 1\n",
    "    netmoney = netmoney + int(toprow[1])\n",
    "    changebefore = int(toprow[1])\n",
    "    maxmonth=toprow[0]\n",
    "    minmonth=toprow[0]\n",
    "    \n",
    "    for row in csvreader:\n",
    "        totalmonths = totalmonths + 1\n",
    "        netmoney = netmoney + int(row[1])\n",
    "        change = int(row[1]) - changebefore\n",
    "        changebefore = int(row[1])\n",
    "        listofchanges = listofchanges + [change]\n",
    "        \n",
    "\n",
    "        if change > maxincrease:\n",
    "            maxincrease=change\n",
    "            maxmonth=row[0]\n",
    "    \n",
    "        elif change < maxdecrease:\n",
    "            maxdecrease=change\n",
    "            minmonth=row[0]\n",
    "        else:\n",
    "            next\n",
    "avgnetpermonth = sum(listofchanges) / len(listofchanges)\n",
    "totalmonths"
   ]
  },
  {
   "cell_type": "code",
   "execution_count": 24,
   "metadata": {},
   "outputs": [
    {
     "name": "stdout",
     "output_type": "stream",
     "text": [
      "Financial Analysis\n",
      "----------------------------\n",
      "Total Months: 86\n",
      "Total: $38382578\n",
      "Average  Change: $-2315.12\n",
      "Greatest Increase in Profits:Feb-2012 $1926159\n",
      "Greatest Decrease in Profits: Sep-2013 $-2196167\n",
      "\n"
     ]
    }
   ],
   "source": [
    "final=(\n",
    "    f'Financial Analysis\\n'\n",
    "    f'----------------------------\\n'\n",
    "    f'Total Months: {totalmonths}\\n'\n",
    "    f'Total: ${netmoney}\\n'\n",
    "    f'Average  Change: ${avgnetpermonth:.2f}\\n'\n",
    "    f'Greatest Increase in Profits:{maxmonth} ${maxincrease}\\n'\n",
    "    f'Greatest Decrease in Profits: {minmonth} ${maxdecrease}\\n'\n",
    ")\n",
    "print(final)"
   ]
  },
  {
   "cell_type": "code",
   "execution_count": 26,
   "metadata": {},
   "outputs": [],
   "source": [
    "with open(\"PyBank_Output.txt\", \"w\") as outfile:\n",
    "    outfile.write(final)"
   ]
  }
 ],
 "metadata": {
  "kernelspec": {
   "display_name": "Python 3",
   "language": "python",
   "name": "python3"
  },
  "language_info": {
   "codemirror_mode": {
    "name": "ipython",
    "version": 3
   },
   "file_extension": ".py",
   "mimetype": "text/x-python",
   "name": "python",
   "nbconvert_exporter": "python",
   "pygments_lexer": "ipython3",
   "version": "3.7.7"
  }
 },
 "nbformat": 4,
 "nbformat_minor": 2
}
