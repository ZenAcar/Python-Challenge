{
 "cells": [
  {
   "cell_type": "code",
   "execution_count": 1,
   "metadata": {},
   "outputs": [],
   "source": [
    "import csv\n",
    "import os"
   ]
  },
  {
   "cell_type": "code",
   "execution_count": 5,
   "metadata": {},
   "outputs": [
    {
     "data": {
      "text/plain": [
       "'Resources/election_data.csv'"
      ]
     },
     "execution_count": 5,
     "metadata": {},
     "output_type": "execute_result"
    }
   ],
   "source": [
    "csvpath = os.path.join(\"Resources\", \"election_data.csv\")\n",
    "csvpath"
   ]
  },
  {
   "cell_type": "code",
   "execution_count": 6,
   "metadata": {},
   "outputs": [],
   "source": [
    "candlist=[]\n",
    "candvotes={}\n",
    "totalvotes=0\n",
    "candwin = \"\"\n",
    "votewin=0\n",
    "numberofwins = 0\n",
    "output00 = \"\"\n",
    "output01 = \"\"\n",
    "output02 = \"\"\n",
    "output03 = \"\""
   ]
  },
  {
   "cell_type": "code",
   "execution_count": 10,
   "metadata": {},
   "outputs": [
    {
     "name": "stdout",
     "output_type": "stream",
     "text": [
      "Election Results\n",
      "-------------------\n",
      "Total Votes: 10563003\n",
      "-------------------\n",
      "\n",
      "Khan: 63.000% (6654693)\n",
      "\n",
      "Correy: 20.000% (2112600)\n",
      "\n",
      "Li: 14.000% (1478820)\n",
      "\n",
      "O'Tooley: 3.000% (316890)\n",
      "\n",
      "-------------------------\n",
      "Winner: Khan\n",
      "-------------------------\n",
      "\n"
     ]
    }
   ],
   "source": [
    "with open(csvpath) as csvfile:\n",
    "    csvreader = csv.reader(csvfile)\n",
    "\n",
    "    head = next(csvreader)\n",
    "\n",
    "\n",
    "    for row in csvreader:\n",
    "        totalvotes = totalvotes + 1\n",
    "\n",
    "        candname = row[2]\n",
    "\n",
    "        if candname not in candlist:\n",
    "            candlist.append(candname)\n",
    "            candvotes[candname] = 0\n",
    "        candvotes[candname] = candvotes[candname] + 1\n",
    "\n",
    "    \n",
    "    output00=(\"Election Results\\n\"\n",
    "         \"-------------------\\n\"\n",
    "         f\"Total Votes: {totalvotes}\\n\"\n",
    "         \"-------------------\\n\")\n",
    "    print(output00)\n",
    "   \n",
    "    with open(\"PyPoll_Output.txt\", \"w\") as txt_file:\n",
    "        txt_file.write(str(output00))\n",
    "        \n",
    "        \n",
    "    for cand in candvotes:\n",
    "        votes = candvotes.get(cand)\n",
    "        votepercent = float(votes) / float(totalvotes) * 100\n",
    "\n",
    "        if (votes > votewin):\n",
    "            votewin = votes\n",
    "            candwin = cand\n",
    "\n",
    "        output02 = f\"{cand}: {votepercent :.3f}% ({votes})\\n\"\n",
    "        \n",
    "        print(output02)\n",
    "        \n",
    "        with open(\"PyPoll_Output.txt\", \"a\") as txt_file:\n",
    "            txt_file.write(output02)\n",
    "\n",
    "    \n",
    "    final = (\n",
    "        f\"-------------------------\\n\"\n",
    "        f\"Winner: {candwin}\\n\"\n",
    "        f\"-------------------------\\n\")\n",
    "    print(final)\n",
    "    "
   ]
  },
  {
   "cell_type": "code",
   "execution_count": 11,
   "metadata": {},
   "outputs": [],
   "source": [
    "with open(\"PyPoll_Output.txt\", \"a\") as outfile:\n",
    "    outfile.write(final)"
   ]
  }
 ],
 "metadata": {
  "kernelspec": {
   "display_name": "Python 3",
   "language": "python",
   "name": "python3"
  },
  "language_info": {
   "codemirror_mode": {
    "name": "ipython",
    "version": 3
   },
   "file_extension": ".py",
   "mimetype": "text/x-python",
   "name": "python",
   "nbconvert_exporter": "python",
   "pygments_lexer": "ipython3",
   "version": "3.7.7"
  }
 },
 "nbformat": 4,
 "nbformat_minor": 2
}
